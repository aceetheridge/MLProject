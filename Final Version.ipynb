{
 "cells": [
  {
   "cell_type": "code",
   "execution_count": 2,
   "id": "incorrect-paradise",
   "metadata": {},
   "outputs": [],
   "source": [
    "from copy import deepcopy as copy\n",
    "\n",
    "import numpy as np\n",
    "import pandas as pd\n",
    "import pandas_datareader as web\n",
    "import matplotlib.pyplot as plt \n",
    "from mpl_toolkits.mplot3d import Axes3D\n",
    "import os\n",
    "import datetime as dt\n",
    "import random\n",
    "import numpy as np\n",
    "import tensorflow as tf\n",
    "import tensorflow.keras.backend as K\n",
    "import datetime\n",
    "\n",
    "\n",
    "from sklearn.preprocessing import MinMaxScaler\n",
    "from tensorflow.keras.models import Sequential\n",
    "from tensorflow.keras.layers import Dense, Dropout, LSTM\n",
    "from tensorflow.keras.callbacks import ModelCheckpoint, EarlyStopping\n",
    "\n",
    "%matplotlib inline "
   ]
  },
  {
   "cell_type": "code",
   "execution_count": 3,
   "id": "listed-directory",
   "metadata": {
    "scrolled": false
   },
   "outputs": [],
   "source": [
    "def load_data(company, start, end):\n",
    "    data = web.DataReader(company, 'yahoo', start, end)\n",
    "    return data"
   ]
  },
  {
   "cell_type": "code",
   "execution_count": 4,
   "id": "freelance-tourism",
   "metadata": {},
   "outputs": [],
   "source": [
    "company = 'PFE'"
   ]
  },
  {
   "cell_type": "code",
   "execution_count": 5,
   "id": "wrong-latter",
   "metadata": {},
   "outputs": [
    {
     "data": {
      "text/html": [
       "<div>\n",
       "<style scoped>\n",
       "    .dataframe tbody tr th:only-of-type {\n",
       "        vertical-align: middle;\n",
       "    }\n",
       "\n",
       "    .dataframe tbody tr th {\n",
       "        vertical-align: top;\n",
       "    }\n",
       "\n",
       "    .dataframe thead th {\n",
       "        text-align: right;\n",
       "    }\n",
       "</style>\n",
       "<table border=\"1\" class=\"dataframe\">\n",
       "  <thead>\n",
       "    <tr style=\"text-align: right;\">\n",
       "      <th></th>\n",
       "      <th>Date</th>\n",
       "      <th>VIX Open</th>\n",
       "      <th>VIX High</th>\n",
       "      <th>VIX Low</th>\n",
       "      <th>VIX Close</th>\n",
       "    </tr>\n",
       "  </thead>\n",
       "  <tbody>\n",
       "    <tr>\n",
       "      <th>0</th>\n",
       "      <td>2004-01-02</td>\n",
       "      <td>17.96</td>\n",
       "      <td>18.68</td>\n",
       "      <td>17.54</td>\n",
       "      <td>18.22</td>\n",
       "    </tr>\n",
       "    <tr>\n",
       "      <th>1</th>\n",
       "      <td>2004-01-05</td>\n",
       "      <td>18.45</td>\n",
       "      <td>18.49</td>\n",
       "      <td>17.44</td>\n",
       "      <td>17.49</td>\n",
       "    </tr>\n",
       "    <tr>\n",
       "      <th>2</th>\n",
       "      <td>2004-01-06</td>\n",
       "      <td>17.66</td>\n",
       "      <td>17.67</td>\n",
       "      <td>16.19</td>\n",
       "      <td>16.73</td>\n",
       "    </tr>\n",
       "    <tr>\n",
       "      <th>3</th>\n",
       "      <td>2004-01-07</td>\n",
       "      <td>16.72</td>\n",
       "      <td>16.75</td>\n",
       "      <td>15.50</td>\n",
       "      <td>15.50</td>\n",
       "    </tr>\n",
       "    <tr>\n",
       "      <th>4</th>\n",
       "      <td>2004-01-08</td>\n",
       "      <td>15.42</td>\n",
       "      <td>15.68</td>\n",
       "      <td>15.32</td>\n",
       "      <td>15.61</td>\n",
       "    </tr>\n",
       "    <tr>\n",
       "      <th>...</th>\n",
       "      <td>...</td>\n",
       "      <td>...</td>\n",
       "      <td>...</td>\n",
       "      <td>...</td>\n",
       "      <td>...</td>\n",
       "    </tr>\n",
       "    <tr>\n",
       "      <th>3532</th>\n",
       "      <td>2018-01-12</td>\n",
       "      <td>9.74</td>\n",
       "      <td>10.31</td>\n",
       "      <td>9.54</td>\n",
       "      <td>10.16</td>\n",
       "    </tr>\n",
       "    <tr>\n",
       "      <th>3533</th>\n",
       "      <td>2018-01-16</td>\n",
       "      <td>10.42</td>\n",
       "      <td>12.41</td>\n",
       "      <td>10.40</td>\n",
       "      <td>11.66</td>\n",
       "    </tr>\n",
       "    <tr>\n",
       "      <th>3534</th>\n",
       "      <td>2018-01-17</td>\n",
       "      <td>11.35</td>\n",
       "      <td>12.81</td>\n",
       "      <td>11.18</td>\n",
       "      <td>11.91</td>\n",
       "    </tr>\n",
       "    <tr>\n",
       "      <th>3535</th>\n",
       "      <td>2018-01-18</td>\n",
       "      <td>12.01</td>\n",
       "      <td>12.40</td>\n",
       "      <td>11.62</td>\n",
       "      <td>12.22</td>\n",
       "    </tr>\n",
       "    <tr>\n",
       "      <th>3536</th>\n",
       "      <td>2018-01-19</td>\n",
       "      <td>12.30</td>\n",
       "      <td>12.33</td>\n",
       "      <td>11.18</td>\n",
       "      <td>11.27</td>\n",
       "    </tr>\n",
       "  </tbody>\n",
       "</table>\n",
       "<p>3537 rows × 5 columns</p>\n",
       "</div>"
      ],
      "text/plain": [
       "            Date  VIX Open  VIX High  VIX Low  VIX Close\n",
       "0     2004-01-02     17.96     18.68    17.54      18.22\n",
       "1     2004-01-05     18.45     18.49    17.44      17.49\n",
       "2     2004-01-06     17.66     17.67    16.19      16.73\n",
       "3     2004-01-07     16.72     16.75    15.50      15.50\n",
       "4     2004-01-08     15.42     15.68    15.32      15.61\n",
       "...          ...       ...       ...      ...        ...\n",
       "3532  2018-01-12      9.74     10.31     9.54      10.16\n",
       "3533  2018-01-16     10.42     12.41    10.40      11.66\n",
       "3534  2018-01-17     11.35     12.81    11.18      11.91\n",
       "3535  2018-01-18     12.01     12.40    11.62      12.22\n",
       "3536  2018-01-19     12.30     12.33    11.18      11.27\n",
       "\n",
       "[3537 rows x 5 columns]"
      ]
     },
     "metadata": {},
     "output_type": "display_data"
    }
   ],
   "source": [
    "df_cboe=  pd.read_csv('./cboe.csv')\n",
    "df_cboe['Date']=df_cboe['Date'].apply(lambda x: datetime.datetime.strptime(x, \"%m/%d/%Y\").strftime(\"%Y-%m-%d\"))\n",
    "df_cboe=df_cboe.dropna()\n",
    "display(df_cboe)"
   ]
  },
  {
   "cell_type": "code",
   "execution_count": 6,
   "id": "artistic-actress",
   "metadata": {},
   "outputs": [
    {
     "data": {
      "text/html": [
       "<div>\n",
       "<style scoped>\n",
       "    .dataframe tbody tr th:only-of-type {\n",
       "        vertical-align: middle;\n",
       "    }\n",
       "\n",
       "    .dataframe tbody tr th {\n",
       "        vertical-align: top;\n",
       "    }\n",
       "\n",
       "    .dataframe thead th {\n",
       "        text-align: right;\n",
       "    }\n",
       "</style>\n",
       "<table border=\"1\" class=\"dataframe\">\n",
       "  <thead>\n",
       "    <tr style=\"text-align: right;\">\n",
       "      <th></th>\n",
       "      <th>High</th>\n",
       "      <th>Low</th>\n",
       "      <th>Open</th>\n",
       "      <th>Close</th>\n",
       "      <th>Volume</th>\n",
       "      <th>Adj Close</th>\n",
       "    </tr>\n",
       "    <tr>\n",
       "      <th>Date</th>\n",
       "      <th></th>\n",
       "      <th></th>\n",
       "      <th></th>\n",
       "      <th></th>\n",
       "      <th></th>\n",
       "      <th></th>\n",
       "    </tr>\n",
       "  </thead>\n",
       "  <tbody>\n",
       "    <tr>\n",
       "      <th>1972-06-01</th>\n",
       "      <td>0.815346</td>\n",
       "      <td>0.802993</td>\n",
       "      <td>0.000000</td>\n",
       "      <td>0.815346</td>\n",
       "      <td>2458771.0</td>\n",
       "      <td>0.187400</td>\n",
       "    </tr>\n",
       "    <tr>\n",
       "      <th>1972-06-02</th>\n",
       "      <td>0.817817</td>\n",
       "      <td>0.802993</td>\n",
       "      <td>0.815346</td>\n",
       "      <td>0.805463</td>\n",
       "      <td>1613885.0</td>\n",
       "      <td>0.185129</td>\n",
       "    </tr>\n",
       "    <tr>\n",
       "      <th>1972-06-05</th>\n",
       "      <td>0.807934</td>\n",
       "      <td>0.798051</td>\n",
       "      <td>0.805463</td>\n",
       "      <td>0.802993</td>\n",
       "      <td>2585251.0</td>\n",
       "      <td>0.184561</td>\n",
       "    </tr>\n",
       "    <tr>\n",
       "      <th>1972-06-06</th>\n",
       "      <td>0.825229</td>\n",
       "      <td>0.800522</td>\n",
       "      <td>0.802993</td>\n",
       "      <td>0.820288</td>\n",
       "      <td>2347469.0</td>\n",
       "      <td>0.188536</td>\n",
       "    </tr>\n",
       "    <tr>\n",
       "      <th>1972-06-07</th>\n",
       "      <td>0.820288</td>\n",
       "      <td>0.807934</td>\n",
       "      <td>0.820288</td>\n",
       "      <td>0.820288</td>\n",
       "      <td>1032077.0</td>\n",
       "      <td>0.188536</td>\n",
       "    </tr>\n",
       "    <tr>\n",
       "      <th>...</th>\n",
       "      <td>...</td>\n",
       "      <td>...</td>\n",
       "      <td>...</td>\n",
       "      <td>...</td>\n",
       "      <td>...</td>\n",
       "      <td>...</td>\n",
       "    </tr>\n",
       "    <tr>\n",
       "      <th>2019-12-24</th>\n",
       "      <td>37.419353</td>\n",
       "      <td>37.191650</td>\n",
       "      <td>37.314991</td>\n",
       "      <td>37.277039</td>\n",
       "      <td>5187683.0</td>\n",
       "      <td>35.428619</td>\n",
       "    </tr>\n",
       "    <tr>\n",
       "      <th>2019-12-26</th>\n",
       "      <td>37.542694</td>\n",
       "      <td>37.191650</td>\n",
       "      <td>37.286530</td>\n",
       "      <td>37.362431</td>\n",
       "      <td>9384078.0</td>\n",
       "      <td>35.509777</td>\n",
       "    </tr>\n",
       "    <tr>\n",
       "      <th>2019-12-27</th>\n",
       "      <td>37.590134</td>\n",
       "      <td>37.239090</td>\n",
       "      <td>37.409866</td>\n",
       "      <td>37.305504</td>\n",
       "      <td>10117662.0</td>\n",
       "      <td>35.455673</td>\n",
       "    </tr>\n",
       "    <tr>\n",
       "      <th>2019-12-30</th>\n",
       "      <td>37.400379</td>\n",
       "      <td>36.897533</td>\n",
       "      <td>37.286530</td>\n",
       "      <td>36.916508</td>\n",
       "      <td>11554264.0</td>\n",
       "      <td>35.085968</td>\n",
       "    </tr>\n",
       "    <tr>\n",
       "      <th>2019-12-31</th>\n",
       "      <td>37.191650</td>\n",
       "      <td>36.726753</td>\n",
       "      <td>36.802658</td>\n",
       "      <td>37.172676</td>\n",
       "      <td>15175703.0</td>\n",
       "      <td>35.329433</td>\n",
       "    </tr>\n",
       "  </tbody>\n",
       "</table>\n",
       "<p>12001 rows × 6 columns</p>\n",
       "</div>"
      ],
      "text/plain": [
       "                 High        Low       Open      Close      Volume  Adj Close\n",
       "Date                                                                         \n",
       "1972-06-01   0.815346   0.802993   0.000000   0.815346   2458771.0   0.187400\n",
       "1972-06-02   0.817817   0.802993   0.815346   0.805463   1613885.0   0.185129\n",
       "1972-06-05   0.807934   0.798051   0.805463   0.802993   2585251.0   0.184561\n",
       "1972-06-06   0.825229   0.800522   0.802993   0.820288   2347469.0   0.188536\n",
       "1972-06-07   0.820288   0.807934   0.820288   0.820288   1032077.0   0.188536\n",
       "...               ...        ...        ...        ...         ...        ...\n",
       "2019-12-24  37.419353  37.191650  37.314991  37.277039   5187683.0  35.428619\n",
       "2019-12-26  37.542694  37.191650  37.286530  37.362431   9384078.0  35.509777\n",
       "2019-12-27  37.590134  37.239090  37.409866  37.305504  10117662.0  35.455673\n",
       "2019-12-30  37.400379  36.897533  37.286530  36.916508  11554264.0  35.085968\n",
       "2019-12-31  37.191650  36.726753  36.802658  37.172676  15175703.0  35.329433\n",
       "\n",
       "[12001 rows x 6 columns]"
      ]
     },
     "metadata": {},
     "output_type": "display_data"
    }
   ],
   "source": [
    "data = load_data(company = company,\n",
    "                 start = dt.datetime(1972,1,1),\n",
    "                 end = dt.datetime(2020,1,1))\n",
    "display(data)\n",
    "# data=data.dropna()\n",
    "# import os\n",
    "\n",
    "\n",
    "# data =pd.read_csv('./Stocks/pfe.us.txt')\n",
    "# data.shape\n",
    "# display(data)"
   ]
  },
  {
   "cell_type": "code",
   "execution_count": 8,
   "id": "emotional-question",
   "metadata": {},
   "outputs": [],
   "source": [
    "# data = pd.merge(data, df_cboe, how='inner')\n",
    "# display(data)"
   ]
  },
  {
   "cell_type": "code",
   "execution_count": 9,
   "id": "nasty-shoulder",
   "metadata": {},
   "outputs": [
    {
     "data": {
      "text/html": [
       "<div>\n",
       "<style scoped>\n",
       "    .dataframe tbody tr th:only-of-type {\n",
       "        vertical-align: middle;\n",
       "    }\n",
       "\n",
       "    .dataframe tbody tr th {\n",
       "        vertical-align: top;\n",
       "    }\n",
       "\n",
       "    .dataframe thead th {\n",
       "        text-align: right;\n",
       "    }\n",
       "</style>\n",
       "<table border=\"1\" class=\"dataframe\">\n",
       "  <thead>\n",
       "    <tr style=\"text-align: right;\">\n",
       "      <th></th>\n",
       "      <th>Close</th>\n",
       "      <th>Volume</th>\n",
       "    </tr>\n",
       "  </thead>\n",
       "  <tbody>\n",
       "    <tr>\n",
       "      <th>0</th>\n",
       "      <td>0.815346</td>\n",
       "      <td>2458771.0</td>\n",
       "    </tr>\n",
       "    <tr>\n",
       "      <th>1</th>\n",
       "      <td>0.805463</td>\n",
       "      <td>1613885.0</td>\n",
       "    </tr>\n",
       "    <tr>\n",
       "      <th>2</th>\n",
       "      <td>0.802993</td>\n",
       "      <td>2585251.0</td>\n",
       "    </tr>\n",
       "    <tr>\n",
       "      <th>3</th>\n",
       "      <td>0.820288</td>\n",
       "      <td>2347469.0</td>\n",
       "    </tr>\n",
       "    <tr>\n",
       "      <th>4</th>\n",
       "      <td>0.820288</td>\n",
       "      <td>1032077.0</td>\n",
       "    </tr>\n",
       "    <tr>\n",
       "      <th>...</th>\n",
       "      <td>...</td>\n",
       "      <td>...</td>\n",
       "    </tr>\n",
       "    <tr>\n",
       "      <th>11996</th>\n",
       "      <td>37.277039</td>\n",
       "      <td>5187683.0</td>\n",
       "    </tr>\n",
       "    <tr>\n",
       "      <th>11997</th>\n",
       "      <td>37.362431</td>\n",
       "      <td>9384078.0</td>\n",
       "    </tr>\n",
       "    <tr>\n",
       "      <th>11998</th>\n",
       "      <td>37.305504</td>\n",
       "      <td>10117662.0</td>\n",
       "    </tr>\n",
       "    <tr>\n",
       "      <th>11999</th>\n",
       "      <td>36.916508</td>\n",
       "      <td>11554264.0</td>\n",
       "    </tr>\n",
       "    <tr>\n",
       "      <th>12000</th>\n",
       "      <td>37.172676</td>\n",
       "      <td>15175703.0</td>\n",
       "    </tr>\n",
       "  </tbody>\n",
       "</table>\n",
       "<p>12001 rows × 2 columns</p>\n",
       "</div>"
      ],
      "text/plain": [
       "           Close      Volume\n",
       "0       0.815346   2458771.0\n",
       "1       0.805463   1613885.0\n",
       "2       0.802993   2585251.0\n",
       "3       0.820288   2347469.0\n",
       "4       0.820288   1032077.0\n",
       "...          ...         ...\n",
       "11996  37.277039   5187683.0\n",
       "11997  37.362431   9384078.0\n",
       "11998  37.305504  10117662.0\n",
       "11999  36.916508  11554264.0\n",
       "12000  37.172676  15175703.0\n",
       "\n",
       "[12001 rows x 2 columns]"
      ]
     },
     "metadata": {},
     "output_type": "display_data"
    }
   ],
   "source": [
    "data = data.sort_index(ascending=True, axis=0)\n",
    "new_data = pd.DataFrame(index=range(0,len(data)),columns=['Close', 'Volume'])\n",
    "for i in range(0,len(data)):\n",
    "    new_data['Close'][i] = data['Close'][i]\n",
    "    new_data['Volume'][i] = data['Volume'][i]\n",
    "new_data.dropna()\n",
    "    \n",
    "display(new_data)"
   ]
  },
  {
   "cell_type": "code",
   "execution_count": 10,
   "id": "removed-census",
   "metadata": {},
   "outputs": [],
   "source": [
    "scaler = MinMaxScaler(feature_range=(0,1))"
   ]
  },
  {
   "cell_type": "code",
   "execution_count": 11,
   "id": "cleared-sender",
   "metadata": {},
   "outputs": [
    {
     "data": {
      "text/plain": [
       "array([[0.0082445 , 0.00805147],\n",
       "       [0.00803444, 0.00528481],\n",
       "       [0.00798195, 0.00846564],\n",
       "       ...,\n",
       "       [0.78379877, 0.03313121],\n",
       "       [0.77553113, 0.03783549],\n",
       "       [0.78097568, 0.04969422]])"
      ]
     },
     "metadata": {},
     "output_type": "display_data"
    },
    {
     "data": {
      "text/plain": [
       "(12001, 2)"
      ]
     },
     "execution_count": 11,
     "metadata": {},
     "output_type": "execute_result"
    }
   ],
   "source": [
    "df_sc = scaler.fit_transform(new_data.values)\n",
    "display(df_sc)\n",
    "df_sc.shape"
   ]
  },
  {
   "cell_type": "code",
   "execution_count": 12,
   "id": "dimensional-optimum",
   "metadata": {},
   "outputs": [],
   "source": [
    "train_end=int(len(df_sc)*.6)\n",
    "val_end = train_end+int(len(df_sc)*.2)\n"
   ]
  },
  {
   "cell_type": "code",
   "execution_count": 13,
   "id": "democratic-watershed",
   "metadata": {},
   "outputs": [
    {
     "data": {
      "text/plain": [
       "(7200, 2)"
      ]
     },
     "execution_count": 13,
     "metadata": {},
     "output_type": "execute_result"
    }
   ],
   "source": [
    "un_train_df= new_data[:train_end].values\n",
    "# un_train_df.shape\n",
    "train_df = df_sc[:train_end]\n",
    "# train_df.shape\n",
    "un_train_df.shape"
   ]
  },
  {
   "cell_type": "code",
   "execution_count": 14,
   "id": "sound-immunology",
   "metadata": {},
   "outputs": [
    {
     "data": {
      "text/plain": [
       "(2400, 2)"
      ]
     },
     "execution_count": 14,
     "metadata": {},
     "output_type": "execute_result"
    }
   ],
   "source": [
    "un_val_df= new_data[train_end:val_end].values\n",
    "val_df = df_sc[train_end:val_end]\n",
    "val_df.shape"
   ]
  },
  {
   "cell_type": "code",
   "execution_count": 15,
   "id": "signed-colony",
   "metadata": {},
   "outputs": [
    {
     "data": {
      "text/plain": [
       "(2401, 2)"
      ]
     },
     "execution_count": 15,
     "metadata": {},
     "output_type": "execute_result"
    }
   ],
   "source": [
    "un_test_df= new_data[val_end:].values\n",
    "test_df = df_sc[val_end:]\n",
    "un_test_df.shape"
   ]
  },
  {
   "cell_type": "code",
   "execution_count": 16,
   "id": "premier-least",
   "metadata": {},
   "outputs": [],
   "source": [
    "window = 30"
   ]
  },
  {
   "cell_type": "code",
   "execution_count": 17,
   "id": "analyzed-angel",
   "metadata": {},
   "outputs": [],
   "source": [
    "def prepData(scaled_data, unscaled, window):\n",
    "    x_train = []\n",
    "    y_train = []\n",
    "\n",
    "    for x in range(window, len(scaled_data)):\n",
    "        x_train.append(scaled_data[x - window:x])\n",
    "        y_train.append(unscaled[x,0])\n",
    "    x_train, y_train = np.array(x_train), np.array(y_train)\n",
    "\n",
    "    x_train = np.reshape(x_train, (x_train.shape[0], x_train.shape[1],2))\n",
    "    print(x_train.shape)\n",
    "    print(y_train.shape)\n",
    "    return x_train, y_train"
   ]
  },
  {
   "cell_type": "code",
   "execution_count": null,
   "id": "executive-thomson",
   "metadata": {},
   "outputs": [],
   "source": []
  },
  {
   "cell_type": "code",
   "execution_count": 18,
   "id": "comic-drill",
   "metadata": {
    "scrolled": true
   },
   "outputs": [
    {
     "name": "stdout",
     "output_type": "stream",
     "text": [
      "(7170, 30, 2)\n",
      "(7170,)\n"
     ]
    },
    {
     "data": {
      "text/plain": [
       "array([[[0.0082445 , 0.00805147],\n",
       "        [0.00803444, 0.00528481],\n",
       "        [0.00798195, 0.00846564],\n",
       "        ...,\n",
       "        [0.00976737, 0.00715686],\n",
       "        [0.00981989, 0.00883011],\n",
       "        [0.00929475, 0.0036447 ]],\n",
       "\n",
       "       [[0.00803444, 0.00528481],\n",
       "        [0.00798195, 0.00846564],\n",
       "        [0.00834953, 0.007687  ],\n",
       "        ...,\n",
       "        [0.00981989, 0.00883011],\n",
       "        [0.00929475, 0.0036447 ],\n",
       "        [0.00971485, 0.00518541]],\n",
       "\n",
       "       [[0.00798195, 0.00846564],\n",
       "        [0.00834953, 0.007687  ],\n",
       "        [0.00834953, 0.00337963],\n",
       "        ...,\n",
       "        [0.00929475, 0.0036447 ],\n",
       "        [0.00971485, 0.00518541],\n",
       "        [0.00955732, 0.00268382]],\n",
       "\n",
       "       ...,\n",
       "\n",
       "       [[0.89077351, 0.05321156],\n",
       "        [0.85044373, 0.04404356],\n",
       "        [0.87186892, 0.03131714],\n",
       "        ...,\n",
       "        [0.85800552, 0.02955795],\n",
       "        [0.86808799, 0.02277591],\n",
       "        [0.85800552, 0.03251099]],\n",
       "\n",
       "       [[0.85044373, 0.04404356],\n",
       "        [0.87186892, 0.03131714],\n",
       "        [0.89707504, 0.0453872 ],\n",
       "        ...,\n",
       "        [0.86808799, 0.02277591],\n",
       "        [0.85800552, 0.03251099],\n",
       "        [0.8441422 , 0.02112165]],\n",
       "\n",
       "       [[0.87186892, 0.03131714],\n",
       "        [0.89707504, 0.0453872 ],\n",
       "        [0.87312918, 0.04212008],\n",
       "        ...,\n",
       "        [0.85800552, 0.03251099],\n",
       "        [0.8441422 , 0.02112165],\n",
       "        [0.89581471, 0.04767859]]])"
      ]
     },
     "metadata": {},
     "output_type": "display_data"
    },
    {
     "data": {
      "text/plain": [
       "array([ 0.88452703,  0.87711501,  0.86723202, ..., 40.14468765,\n",
       "       42.57590103, 42.69449615])"
      ]
     },
     "metadata": {},
     "output_type": "display_data"
    }
   ],
   "source": [
    "\n",
    "x_train, y_train = prepData(train_df, un_train_df, window)\n",
    "display(x_train)\n",
    "display(y_train)"
   ]
  },
  {
   "cell_type": "code",
   "execution_count": 20,
   "id": "excited-laundry",
   "metadata": {},
   "outputs": [
    {
     "name": "stdout",
     "output_type": "stream",
     "text": [
      "(2370, 30, 2)\n",
      "(2370,)\n"
     ]
    },
    {
     "data": {
      "text/plain": [
       "array([[[0.91093836, 0.05159181],\n",
       "        [0.88447198, 0.05955976],\n",
       "        [0.86808799, 0.06070045],\n",
       "        ...,\n",
       "        [0.86304679, 0.03874529],\n",
       "        [0.8441422 , 0.04887589],\n",
       "        [0.81767574, 0.07626946]],\n",
       "\n",
       "       [[0.88447198, 0.05955976],\n",
       "        [0.86808799, 0.06070045],\n",
       "        [0.88195131, 0.04290114],\n",
       "        ...,\n",
       "        [0.8441422 , 0.04887589],\n",
       "        [0.81767574, 0.07626946],\n",
       "        [0.82649786, 0.06346331]],\n",
       "\n",
       "       [[0.86808799, 0.06070045],\n",
       "        [0.88195131, 0.04290114],\n",
       "        [0.88825292, 0.04451847],\n",
       "        ...,\n",
       "        [0.81767574, 0.07626946],\n",
       "        [0.82649786, 0.06346331],\n",
       "        [0.83153914, 0.05624398]],\n",
       "\n",
       "       ...,\n",
       "\n",
       "       [[0.33190359, 0.24839552],\n",
       "        [0.33896129, 0.41728174],\n",
       "        [0.3373481 , 0.34272591],\n",
       "        ...,\n",
       "        [0.29157379, 0.20769604],\n",
       "        [0.30266449, 0.26100045],\n",
       "        [0.30004305, 0.17692216]],\n",
       "\n",
       "       [[0.33896129, 0.41728174],\n",
       "        [0.3373481 , 0.34272591],\n",
       "        [0.32847555, 0.41151614],\n",
       "        ...,\n",
       "        [0.30266449, 0.26100045],\n",
       "        [0.30004305, 0.17692216],\n",
       "        [0.3038744 , 0.17421452]],\n",
       "\n",
       "       [[0.3373481 , 0.34272591],\n",
       "        [0.32847555, 0.41151614],\n",
       "        [0.32282938, 0.36895911],\n",
       "        ...,\n",
       "        [0.30004305, 0.17692216],\n",
       "        [0.3038744 , 0.17421452],\n",
       "        [0.30306778, 0.13089058]]])"
      ]
     },
     "metadata": {},
     "output_type": "display_data"
    }
   ],
   "source": [
    "x_val, y_val = prepData(val_df,un_val_df, window)\n",
    "display(x_val)"
   ]
  },
  {
   "cell_type": "code",
   "execution_count": 21,
   "id": "corresponding-aerospace",
   "metadata": {},
   "outputs": [
    {
     "name": "stdout",
     "output_type": "stream",
     "text": [
      "(2371, 30, 2)\n",
      "(2371,)\n"
     ]
    },
    {
     "data": {
      "text/plain": [
       "array([[[0.29762327, 0.24099464],\n",
       "        [0.29540514, 0.15778438],\n",
       "        [0.2927837 , 0.15132367],\n",
       "        ...,\n",
       "        [0.29338863, 0.13927891],\n",
       "        [0.29520348, 0.2019836 ],\n",
       "        [0.29338863, 0.15198324]],\n",
       "\n",
       "       [[0.29540514, 0.15778438],\n",
       "        [0.2927837 , 0.15132367],\n",
       "        [0.29096886, 0.16677533],\n",
       "        ...,\n",
       "        [0.29520348, 0.2019836 ],\n",
       "        [0.29338863, 0.15198324],\n",
       "        [0.30306778, 0.18909669]],\n",
       "\n",
       "       [[0.2927837 , 0.15132367],\n",
       "        [0.29096886, 0.16677533],\n",
       "        [0.2824996 , 0.29705017],\n",
       "        ...,\n",
       "        [0.29338863, 0.15198324],\n",
       "        [0.30306778, 0.18909669],\n",
       "        [0.32040958, 0.54948455]],\n",
       "\n",
       "       ...,\n",
       "\n",
       "       [[0.72895024, 0.08466538],\n",
       "        [0.72794197, 0.08248891],\n",
       "        [0.74266236, 0.11912573],\n",
       "        ...,\n",
       "        [0.78379877, 0.05715584],\n",
       "        [0.78319378, 0.01698754],\n",
       "        [0.78500868, 0.03072902]],\n",
       "\n",
       "       [[0.72794197, 0.08248891],\n",
       "        [0.74266236, 0.11912573],\n",
       "        [0.74145245, 0.05921945],\n",
       "        ...,\n",
       "        [0.78319378, 0.01698754],\n",
       "        [0.78500868, 0.03072902],\n",
       "        [0.78379877, 0.03313121]],\n",
       "\n",
       "       [[0.74266236, 0.11912573],\n",
       "        [0.74145245, 0.05921945],\n",
       "        [0.75032501, 0.08669516],\n",
       "        ...,\n",
       "        [0.78500868, 0.03072902],\n",
       "        [0.78379877, 0.03313121],\n",
       "        [0.77553113, 0.03783549]]])"
      ]
     },
     "metadata": {},
     "output_type": "display_data"
    },
    {
     "data": {
      "text/plain": [
       "array([14.68690681, 15.50284576, 15.59772301, ..., 37.30550385,\n",
       "       36.91650772, 37.17267609])"
      ]
     },
     "metadata": {},
     "output_type": "display_data"
    }
   ],
   "source": [
    "x_test, y_test = prepData(test_df, un_test_df, window)\n",
    "display(x_test)\n",
    "display(y_test)"
   ]
  },
  {
   "cell_type": "code",
   "execution_count": 22,
   "id": "interim-rebound",
   "metadata": {},
   "outputs": [],
   "source": [
    "def LSTM_model():\n",
    "    \n",
    "    model = Sequential()\n",
    "    \n",
    "    model.add(LSTM(units = 100, return_sequences = True, input_shape = (x_train.shape[1],2)))\n",
    "    model.add(Dropout(0.2))\n",
    "\n",
    "    model.add(LSTM(units = 50, return_sequences = True))\n",
    "    model.add(Dropout(0.2))\n",
    "\n",
    "    model.add(LSTM(units = 50))\n",
    "    model.add(Dropout(0.2))\n",
    "    \n",
    "    model.add(Dense(units=1))\n",
    "    \n",
    "    \n",
    "    return model"
   ]
  },
  {
   "cell_type": "code",
   "execution_count": 23,
   "id": "electrical-jewel",
   "metadata": {},
   "outputs": [],
   "source": [
    "def customLoss(y_true,y_pred):\n",
    "    #next days price\n",
    "    y_true_next = y_true[1:]\n",
    "    y_pred_next = y_pred[1:]\n",
    "    \n",
    "    #today's price\n",
    "    y_true_tdy = y_true[:-1]\n",
    "    y_pred_tdy = y_pred[:-1]\n",
    "    \n",
    "    #Subtract to get whether the price moved up or down\n",
    "    y_true_diff = tf.subtract(y_true_next, y_true_tdy)\n",
    "    y_pred_diff = tf.subtract(y_pred_next, y_pred_tdy)\n",
    "        \n",
    "    #create a standard tensor with zero value for comparison\n",
    "    standard = tf.zeros_like(y_pred_diff)\n",
    "    \n",
    "    #compare with the standard; if true, UP; else DOWN\n",
    "    y_true_move = tf.greater_equal(y_true_diff, standard)\n",
    "    y_pred_move = tf.greater_equal(y_pred_diff, standard)\n",
    "    y_true_move = tf.reshape(y_true_move, [-1])\n",
    "    y_pred_move = tf.reshape(y_pred_move, [-1])\n",
    "    \n",
    "\n",
    "    #find indices where the directions are not the same\n",
    "    condition = tf.not_equal(y_true_move, y_pred_move)\n",
    "    indices = tf.where(condition)\n",
    "\n",
    "    #move one position later\n",
    "    ones = tf.ones_like(indices)\n",
    "    indices = tf.add(indices, ones)\n",
    "    indices = K.cast(indices, dtype='int32')\n",
    "    \n",
    "    \n",
    "    #create a tensor to store directional loss and put it into custom loss output\n",
    "    direction_loss = tf.Variable(tf.ones_like(y_pred), dtype='float32')\n",
    "    updates = K.cast(tf.ones_like(indices), dtype='float32')\n",
    "    alpha = 1000\n",
    "    direction_loss = tf.tensor_scatter_nd_update(direction_loss, indices, alpha*updates)\n",
    "    \n",
    "    custom_loss = K.mean(tf.multiply(K.square(y_true - y_pred), direction_loss), axis=-1)\n",
    "    \n",
    "    return custom_loss"
   ]
  },
  {
   "cell_type": "code",
   "execution_count": 24,
   "id": "oriented-dakota",
   "metadata": {},
   "outputs": [
    {
     "name": "stdout",
     "output_type": "stream",
     "text": [
      "Model: \"sequential\"\n",
      "_________________________________________________________________\n",
      "Layer (type)                 Output Shape              Param #   \n",
      "=================================================================\n",
      "lstm (LSTM)                  (None, 30, 100)           41200     \n",
      "_________________________________________________________________\n",
      "dropout (Dropout)            (None, 30, 100)           0         \n",
      "_________________________________________________________________\n",
      "lstm_1 (LSTM)                (None, 30, 50)            30200     \n",
      "_________________________________________________________________\n",
      "dropout_1 (Dropout)          (None, 30, 50)            0         \n",
      "_________________________________________________________________\n",
      "lstm_2 (LSTM)                (None, 50)                20200     \n",
      "_________________________________________________________________\n",
      "dropout_2 (Dropout)          (None, 50)                0         \n",
      "_________________________________________________________________\n",
      "dense (Dense)                (None, 1)                 51        \n",
      "=================================================================\n",
      "Total params: 91,651\n",
      "Trainable params: 91,651\n",
      "Non-trainable params: 0\n",
      "_________________________________________________________________\n"
     ]
    }
   ],
   "source": [
    "model = LSTM_model()\n",
    "model.summary()\n",
    "model.compile(optimizer='adam', \n",
    "              loss='mean_squared_error')"
   ]
  },
  {
   "cell_type": "code",
   "execution_count": 25,
   "id": "friendly-nelson",
   "metadata": {},
   "outputs": [
    {
     "data": {
      "text/plain": [
       "array([[[0.0082445 , 0.00805147],\n",
       "        [0.00803444, 0.00528481],\n",
       "        [0.00798195, 0.00846564],\n",
       "        ...,\n",
       "        [0.00976737, 0.00715686],\n",
       "        [0.00981989, 0.00883011],\n",
       "        [0.00929475, 0.0036447 ]],\n",
       "\n",
       "       [[0.00803444, 0.00528481],\n",
       "        [0.00798195, 0.00846564],\n",
       "        [0.00834953, 0.007687  ],\n",
       "        ...,\n",
       "        [0.00981989, 0.00883011],\n",
       "        [0.00929475, 0.0036447 ],\n",
       "        [0.00971485, 0.00518541]],\n",
       "\n",
       "       [[0.00798195, 0.00846564],\n",
       "        [0.00834953, 0.007687  ],\n",
       "        [0.00834953, 0.00337963],\n",
       "        ...,\n",
       "        [0.00929475, 0.0036447 ],\n",
       "        [0.00971485, 0.00518541],\n",
       "        [0.00955732, 0.00268382]],\n",
       "\n",
       "       ...,\n",
       "\n",
       "       [[0.89077351, 0.05321156],\n",
       "        [0.85044373, 0.04404356],\n",
       "        [0.87186892, 0.03131714],\n",
       "        ...,\n",
       "        [0.85800552, 0.02955795],\n",
       "        [0.86808799, 0.02277591],\n",
       "        [0.85800552, 0.03251099]],\n",
       "\n",
       "       [[0.85044373, 0.04404356],\n",
       "        [0.87186892, 0.03131714],\n",
       "        [0.89707504, 0.0453872 ],\n",
       "        ...,\n",
       "        [0.86808799, 0.02277591],\n",
       "        [0.85800552, 0.03251099],\n",
       "        [0.8441422 , 0.02112165]],\n",
       "\n",
       "       [[0.87186892, 0.03131714],\n",
       "        [0.89707504, 0.0453872 ],\n",
       "        [0.87312918, 0.04212008],\n",
       "        ...,\n",
       "        [0.85800552, 0.03251099],\n",
       "        [0.8441422 , 0.02112165],\n",
       "        [0.89581471, 0.04767859]]])"
      ]
     },
     "metadata": {},
     "output_type": "display_data"
    },
    {
     "name": "stdout",
     "output_type": "stream",
     "text": [
      "(7170,)\n"
     ]
    }
   ],
   "source": [
    "display(x_train)\n",
    "print(y_train.shape)"
   ]
  },
  {
   "cell_type": "code",
   "execution_count": 26,
   "id": "warming-worcester",
   "metadata": {},
   "outputs": [],
   "source": [
    "# x_train = np.asarray(x_train).astype('float32')\n",
    "# y_train = np.asarray(y_train).astype('float32')\n",
    "# x_val = np.asarray(x_val).astype('float32')\n",
    "# y_val = np.asarray(y_val).astype('float32')\n",
    "# x_test =np.asarray(x_test).astype('float32')\n",
    "# y_test = np.asarray(y_test).astype('float32')\n",
    "# y_train = tf.convert_to_tensor(y_train, dtype=tf.float32)\n",
    "# x_val =tf.convert_to_tensor(x_val, dtype=tf.float32)\n",
    "# y_val =tf.convert_to_tensor(y_val, dtype=tf.float32)\n",
    "# display(x_train)"
   ]
  },
  {
   "cell_type": "code",
   "execution_count": 27,
   "id": "numerical-equipment",
   "metadata": {},
   "outputs": [
    {
     "name": "stdout",
     "output_type": "stream",
     "text": [
      "Epoch 1/10\n",
      "225/225 [==============================] - 13s 41ms/step - loss: 89.3623 - val_loss: 118.4099\n",
      "\n",
      "Epoch 00001: val_loss improved from inf to 118.40987, saving model to weights3.hdf5\n",
      "Epoch 2/10\n",
      "225/225 [==============================] - 8s 36ms/step - loss: 27.7509 - val_loss: 37.3199\n",
      "\n",
      "Epoch 00002: val_loss improved from 118.40987 to 37.31993, saving model to weights3.hdf5\n",
      "Epoch 3/10\n",
      "225/225 [==============================] - 8s 36ms/step - loss: 11.6823 - val_loss: 32.0594\n",
      "\n",
      "Epoch 00003: val_loss improved from 37.31993 to 32.05936, saving model to weights3.hdf5\n",
      "Epoch 4/10\n",
      "225/225 [==============================] - 8s 36ms/step - loss: 6.5023 - val_loss: 9.4497\n",
      "\n",
      "Epoch 00004: val_loss improved from 32.05936 to 9.44975, saving model to weights3.hdf5\n",
      "Epoch 5/10\n",
      "225/225 [==============================] - 8s 36ms/step - loss: 3.2318 - val_loss: 7.3369\n",
      "\n",
      "Epoch 00005: val_loss improved from 9.44975 to 7.33687, saving model to weights3.hdf5\n",
      "Epoch 6/10\n",
      "225/225 [==============================] - 8s 38ms/step - loss: 2.6667 - val_loss: 36.0292\n",
      "\n",
      "Epoch 00006: val_loss did not improve from 7.33687\n",
      "Epoch 7/10\n",
      "225/225 [==============================] - 8s 37ms/step - loss: 3.2851 - val_loss: 10.5286\n",
      "\n",
      "Epoch 00007: val_loss did not improve from 7.33687\n",
      "Epoch 8/10\n",
      "225/225 [==============================] - 8s 37ms/step - loss: 2.3025 - val_loss: 3.1316\n",
      "\n",
      "Epoch 00008: val_loss improved from 7.33687 to 3.13161, saving model to weights3.hdf5\n",
      "Epoch 9/10\n",
      "225/225 [==============================] - 8s 37ms/step - loss: 1.6581 - val_loss: 2.9112\n",
      "\n",
      "Epoch 00009: val_loss improved from 3.13161 to 2.91118, saving model to weights3.hdf5\n",
      "Epoch 10/10\n",
      "225/225 [==============================] - 8s 36ms/step - loss: 1.6642 - val_loss: 1.2785\n",
      "\n",
      "Epoch 00010: val_loss improved from 2.91118 to 1.27847, saving model to weights3.hdf5\n"
     ]
    },
    {
     "data": {
      "text/plain": [
       "<tensorflow.python.keras.callbacks.History at 0x7fd37489a100>"
      ]
     },
     "execution_count": 27,
     "metadata": {},
     "output_type": "execute_result"
    }
   ],
   "source": [
    "checkpointer = ModelCheckpoint(filepath = 'weights3.hdf5', \n",
    "                               verbose = 2, \n",
    "                               save_best_only = True)\n",
    "\n",
    "model.fit(x_train,\n",
    "          y_train, \n",
    "          epochs=10,\n",
    "          batch_size = 32,\n",
    "          validation_data=(x_val,y_val),\n",
    "          callbacks = [checkpointer])"
   ]
  },
  {
   "cell_type": "code",
   "execution_count": 28,
   "id": "tender-lambda",
   "metadata": {
    "scrolled": false
   },
   "outputs": [
    {
     "name": "stdout",
     "output_type": "stream",
     "text": [
      "225/225 [==============================] - 3s 12ms/step - loss: 0.6137\n"
     ]
    },
    {
     "data": {
      "text/plain": [
       "0.613733172416687"
      ]
     },
     "execution_count": 28,
     "metadata": {},
     "output_type": "execute_result"
    }
   ],
   "source": [
    "model.evaluate(x_train, y_train)"
   ]
  },
  {
   "cell_type": "code",
   "execution_count": 29,
   "id": "hindu-courage",
   "metadata": {},
   "outputs": [
    {
     "name": "stdout",
     "output_type": "stream",
     "text": [
      "75/75 [==============================] - 1s 12ms/step - loss: 1.5800\n"
     ]
    },
    {
     "data": {
      "text/plain": [
       "1.5799670219421387"
      ]
     },
     "execution_count": 29,
     "metadata": {},
     "output_type": "execute_result"
    }
   ],
   "source": [
    "model.evaluate(x_test, y_test)"
   ]
  },
  {
   "cell_type": "code",
   "execution_count": 30,
   "id": "indonesian-hampton",
   "metadata": {},
   "outputs": [
    {
     "name": "stdout",
     "output_type": "stream",
     "text": [
      "(2371, 30, 2)\n"
     ]
    },
    {
     "data": {
      "text/plain": [
       "array([[13.678745],\n",
       "       [13.739773],\n",
       "       [13.829203],\n",
       "       ...,\n",
       "       [35.12041 ],\n",
       "       [35.214443],\n",
       "       [35.287304]], dtype=float32)"
      ]
     },
     "metadata": {},
     "output_type": "display_data"
    },
    {
     "name": "stdout",
     "output_type": "stream",
     "text": [
      "(2371, 1)\n"
     ]
    },
    {
     "data": {
      "text/plain": [
       "(2371,)"
      ]
     },
     "execution_count": 30,
     "metadata": {},
     "output_type": "execute_result"
    }
   ],
   "source": [
    "print(x_test.shape)\n",
    "predicted = model.predict(x_test)\n",
    "display(predicted)\n",
    "print(predicted.shape)\n",
    "y_test.shape"
   ]
  },
  {
   "cell_type": "code",
   "execution_count": 31,
   "id": "simplified-jacksonville",
   "metadata": {
    "scrolled": true
   },
   "outputs": [
    {
     "data": {
      "text/plain": [
       "<matplotlib.legend.Legend at 0x7fd3640620d0>"
      ]
     },
     "execution_count": 31,
     "metadata": {},
     "output_type": "execute_result"
    },
    {
     "data": {
      "image/png": "[encoded data removed]",
      "text/plain": [
       "<Figure size 432x288 with 1 Axes>"
      ]
     },
     "metadata": {
      "needs_background": "light"
     },
     "output_type": "display_data"
    }
   ],
   "source": [
    "plt.plot(predicted[2050:], color= 'blue',label=f\"predicted {company} price\")\n",
    "plt.plot(y_test[2050:], color= 'orange', label=f\"Actual {company} price\")\n",
    "plt.rcParams[\"figure.figsize\"] = (6,6)\n",
    "plt.title(f\"{company} share price\")\n",
    "plt.xlabel(\"time\")\n",
    "plt.ylabel(f\"{company} share price\")\n",
    "plt.legend()"
   ]
  },
  {
   "cell_type": "code",
   "execution_count": 32,
   "id": "significant-cooperation",
   "metadata": {},
   "outputs": [
    {
     "data": {
      "text/plain": [
       "array([[35.31309128, 35.73054886, 35.15180206, 35.8064537 , 36.36622238,\n",
       "        36.69829178, 36.32827377, 36.6508522 , 36.54648972, 36.32827377,\n",
       "        36.10057068, 36.18595886, 36.08159256, 36.32827377, 36.35673523,\n",
       "        36.50853729, 36.26185989, 36.56546402, 36.36622238, 37.13472366,\n",
       "        36.90702057, 36.89753342, 36.97343445, 37.22011566, 37.30550385,\n",
       "        37.27703857, 37.36243057, 37.30550385, 36.91650772, 37.17267609]])"
      ]
     },
     "metadata": {},
     "output_type": "display_data"
    },
    {
     "data": {
      "text/plain": [
       "(1, 30, 2)"
      ]
     },
     "execution_count": 32,
     "metadata": {},
     "output_type": "execute_result"
    }
   ],
   "source": [
    "real_data = [x_test[len(x_test-1) - window:len(x_test+1),0]]\n",
    "target_data=[y_test[len(y_test+1) - window:len(y_test+1)]]\n",
    "real_data = np.array(real_data)\n",
    "target_data = np.array(target_data)\n",
    "real_data = np.reshape(real_data, (real_data.shape[0], real_data.shape[1], 2))\n",
    "# target_data = np.reshape(target_data, (target_data.shape[0], target_data.shape[1], 1))\n",
    "display(target_data)\n",
    "real_data.shape"
   ]
  },
  {
   "cell_type": "code",
   "execution_count": 33,
   "id": "exposed-quality",
   "metadata": {},
   "outputs": [
    {
     "name": "stdout",
     "output_type": "stream",
     "text": [
      "Closing price prediction for 2020-01-02  [[33.525234]]\n"
     ]
    },
    {
     "data": {
      "text/html": [
       "<div>\n",
       "<style scoped>\n",
       "    .dataframe tbody tr th:only-of-type {\n",
       "        vertical-align: middle;\n",
       "    }\n",
       "\n",
       "    .dataframe tbody tr th {\n",
       "        vertical-align: top;\n",
       "    }\n",
       "\n",
       "    .dataframe thead th {\n",
       "        text-align: right;\n",
       "    }\n",
       "</style>\n",
       "<table border=\"1\" class=\"dataframe\">\n",
       "  <thead>\n",
       "    <tr style=\"text-align: right;\">\n",
       "      <th></th>\n",
       "      <th>High</th>\n",
       "      <th>Low</th>\n",
       "      <th>Open</th>\n",
       "      <th>Close</th>\n",
       "      <th>Volume</th>\n",
       "      <th>Adj Close</th>\n",
       "    </tr>\n",
       "    <tr>\n",
       "      <th>Date</th>\n",
       "      <th></th>\n",
       "      <th></th>\n",
       "      <th></th>\n",
       "      <th></th>\n",
       "      <th></th>\n",
       "      <th></th>\n",
       "    </tr>\n",
       "  </thead>\n",
       "  <tbody>\n",
       "    <tr>\n",
       "      <th>2019-12-30</th>\n",
       "      <td>37.400379</td>\n",
       "      <td>36.897533</td>\n",
       "      <td>37.286530</td>\n",
       "      <td>36.916508</td>\n",
       "      <td>11554264</td>\n",
       "      <td>35.085968</td>\n",
       "    </tr>\n",
       "    <tr>\n",
       "      <th>2019-12-31</th>\n",
       "      <td>37.191650</td>\n",
       "      <td>36.726753</td>\n",
       "      <td>36.802658</td>\n",
       "      <td>37.172676</td>\n",
       "      <td>15175703</td>\n",
       "      <td>35.329433</td>\n",
       "    </tr>\n",
       "    <tr>\n",
       "      <th>2020-01-02</th>\n",
       "      <td>37.333965</td>\n",
       "      <td>36.888046</td>\n",
       "      <td>37.286530</td>\n",
       "      <td>37.134724</td>\n",
       "      <td>16514072</td>\n",
       "      <td>35.293362</td>\n",
       "    </tr>\n",
       "    <tr>\n",
       "      <th>2020-01-03</th>\n",
       "      <td>37.229603</td>\n",
       "      <td>36.688805</td>\n",
       "      <td>36.736244</td>\n",
       "      <td>36.935486</td>\n",
       "      <td>14922848</td>\n",
       "      <td>35.104000</td>\n",
       "    </tr>\n",
       "  </tbody>\n",
       "</table>\n",
       "</div>"
      ],
      "text/plain": [
       "                 High        Low       Open      Close    Volume  Adj Close\n",
       "Date                                                                       \n",
       "2019-12-30  37.400379  36.897533  37.286530  36.916508  11554264  35.085968\n",
       "2019-12-31  37.191650  36.726753  36.802658  37.172676  15175703  35.329433\n",
       "2020-01-02  37.333965  36.888046  37.286530  37.134724  16514072  35.293362\n",
       "2020-01-03  37.229603  36.688805  36.736244  36.935486  14922848  35.104000"
      ]
     },
     "metadata": {},
     "output_type": "display_data"
    }
   ],
   "source": [
    "prediction = model.predict(real_data)\n",
    "actual_value = load_data(company = 'PFE',\n",
    "                      start = dt.datetime(2019,12,30),\n",
    "                      end = dt.datetime(2020,1,3))\n",
    "print(\"Closing price prediction for 2020-01-02 \", prediction)\n",
    "display(actual_value)"
   ]
  },
  {
   "cell_type": "code",
   "execution_count": null,
   "id": "champion-march",
   "metadata": {},
   "outputs": [],
   "source": []
  },
  {
   "cell_type": "code",
   "execution_count": null,
   "id": "comparative-split",
   "metadata": {},
   "outputs": [],
   "source": []
  },
  {
   "cell_type": "code",
   "execution_count": null,
   "id": "recorded-identification",
   "metadata": {},
   "outputs": [],
   "source": []
  },
  {
   "cell_type": "code",
   "execution_count": null,
   "id": "geological-forum",
   "metadata": {},
   "outputs": [],
   "source": []
  },
  {
   "cell_type": "code",
   "execution_count": null,
   "id": "actual-poison",
   "metadata": {},
   "outputs": [],
   "source": []
  },
  {
   "cell_type": "code",
   "execution_count": null,
   "id": "educational-funds",
   "metadata": {},
   "outputs": [],
   "source": []
  },
  {
   "cell_type": "code",
   "execution_count": null,
   "id": "noble-assets",
   "metadata": {},
   "outputs": [],
   "source": []
  },
  {
   "cell_type": "code",
   "execution_count": null,
   "id": "increased-allocation",
   "metadata": {},
   "outputs": [],
   "source": []
  },
  {
   "cell_type": "code",
   "execution_count": null,
   "id": "younger-ivory",
   "metadata": {},
   "outputs": [],
   "source": []
  },
  {
   "cell_type": "code",
   "execution_count": null,
   "id": "solid-forge",
   "metadata": {},
   "outputs": [],
   "source": []
  },
  {
   "cell_type": "code",
   "execution_count": null,
   "id": "orange-balance",
   "metadata": {},
   "outputs": [],
   "source": []
  },
  {
   "cell_type": "code",
   "execution_count": null,
   "id": "lonely-intake",
   "metadata": {},
   "outputs": [],
   "source": []
  },
  {
   "cell_type": "code",
   "execution_count": null,
   "id": "persistent-software",
   "metadata": {},
   "outputs": [],
   "source": []
  },
  {
   "cell_type": "code",
   "execution_count": null,
   "id": "pretty-workshop",
   "metadata": {},
   "outputs": [],
   "source": []
  },
  {
   "cell_type": "code",
   "execution_count": null,
   "id": "after-provision",
   "metadata": {},
   "outputs": [],
   "source": []
  },
  {
   "cell_type": "code",
   "execution_count": null,
   "id": "centered-encounter",
   "metadata": {},
   "outputs": [],
   "source": []
  },
  {
   "cell_type": "code",
   "execution_count": null,
   "id": "distant-sister",
   "metadata": {},
   "outputs": [],
   "source": []
  },
  {
   "cell_type": "code",
   "execution_count": null,
   "id": "announced-practice",
   "metadata": {},
   "outputs": [],
   "source": []
  },
  {
   "cell_type": "code",
   "execution_count": null,
   "id": "vocational-challenge",
   "metadata": {},
   "outputs": [],
   "source": []
  },
  {
   "cell_type": "code",
   "execution_count": null,
   "id": "formal-consistency",
   "metadata": {},
   "outputs": [],
   "source": []
  },
  {
   "cell_type": "code",
   "execution_count": null,
   "id": "advanced-sample",
   "metadata": {},
   "outputs": [],
   "source": []
  },
  {
   "cell_type": "code",
   "execution_count": null,
   "id": "minor-universal",
   "metadata": {},
   "outputs": [],
   "source": []
  },
  {
   "cell_type": "code",
   "execution_count": null,
   "id": "loaded-mistake",
   "metadata": {},
   "outputs": [],
   "source": []
  },
  {
   "cell_type": "code",
   "execution_count": null,
   "id": "pharmaceutical-visiting",
   "metadata": {},
   "outputs": [],
   "source": []
  },
  {
   "cell_type": "code",
   "execution_count": null,
   "id": "current-barrel",
   "metadata": {},
   "outputs": [],
   "source": []
  },
  {
   "cell_type": "code",
   "execution_count": null,
   "id": "coated-ready",
   "metadata": {},
   "outputs": [],
   "source": []
  },
  {
   "cell_type": "code",
   "execution_count": null,
   "id": "protecting-tracker",
   "metadata": {},
   "outputs": [],
   "source": []
  },
  {
   "cell_type": "code",
   "execution_count": null,
   "id": "computational-memorial",
   "metadata": {},
   "outputs": [],
   "source": []
  },
  {
   "cell_type": "code",
   "execution_count": null,
   "id": "subjective-content",
   "metadata": {},
   "outputs": [],
   "source": []
  },
  {
   "cell_type": "code",
   "execution_count": null,
   "id": "correct-passenger",
   "metadata": {},
   "outputs": [],
   "source": []
  },
  {
   "cell_type": "code",
   "execution_count": null,
   "id": "rapid-bedroom",
   "metadata": {},
   "outputs": [],
   "source": []
  },
  {
   "cell_type": "code",
   "execution_count": null,
   "id": "sunrise-presence",
   "metadata": {},
   "outputs": [],
   "source": []
  },
  {
   "cell_type": "code",
   "execution_count": null,
   "id": "large-jewelry",
   "metadata": {},
   "outputs": [],
   "source": []
  },
  {
   "cell_type": "code",
   "execution_count": null,
   "id": "civil-malta",
   "metadata": {},
   "outputs": [],
   "source": []
  },
  {
   "cell_type": "code",
   "execution_count": null,
   "id": "individual-support",
   "metadata": {},
   "outputs": [],
   "source": []
  },
  {
   "cell_type": "code",
   "execution_count": null,
   "id": "connected-blogger",
   "metadata": {},
   "outputs": [],
   "source": []
  },
  {
   "cell_type": "code",
   "execution_count": null,
   "id": "appointed-cloud",
   "metadata": {},
   "outputs": [],
   "source": []
  },
  {
   "cell_type": "code",
   "execution_count": null,
   "id": "ideal-zambia",
   "metadata": {},
   "outputs": [],
   "source": []
  },
  {
   "cell_type": "code",
   "execution_count": null,
   "id": "vertical-extension",
   "metadata": {},
   "outputs": [],
   "source": []
  },
  {
   "cell_type": "code",
   "execution_count": null,
   "id": "certain-liver",
   "metadata": {},
   "outputs": [],
   "source": []
  },
  {
   "cell_type": "code",
   "execution_count": null,
   "id": "automated-chair",
   "metadata": {},
   "outputs": [],
   "source": []
  },
  {
   "cell_type": "code",
   "execution_count": null,
   "id": "electronic-letters",
   "metadata": {},
   "outputs": [],
   "source": []
  },
  {
   "cell_type": "code",
   "execution_count": null,
   "id": "contrary-divide",
   "metadata": {},
   "outputs": [],
   "source": []
  },
  {
   "cell_type": "code",
   "execution_count": null,
   "id": "intensive-reservation",
   "metadata": {},
   "outputs": [],
   "source": []
  }
 ],
 "metadata": {
  "kernelspec": {
   "display_name": "venv",
   "language": "python",
   "name": "venv"
  },
  "language_info": {
   "codemirror_mode": {
    "name": "ipython",
    "version": 3
   },
   "file_extension": ".py",
   "mimetype": "text/x-python",
   "name": "python",
   "nbconvert_exporter": "python",
   "pygments_lexer": "ipython3",
   "version": "3.8.5"
  }
 },
 "nbformat": 4,
 "nbformat_minor": 5
}
